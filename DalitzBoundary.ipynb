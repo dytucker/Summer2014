{
 "metadata": {
  "name": "",
  "signature": "sha256:9705d7dc972a9b2e444b8fd70289d6decae3f1a070bef46d162531cba851e51a"
 },
 "nbformat": 3,
 "nbformat_minor": 0,
 "worksheets": [
  {
   "cells": [
    {
     "cell_type": "heading",
     "level": 1,
     "metadata": {},
     "source": [
      "Dalitz Plot Boundaries\n"
     ]
    },
    {
     "cell_type": "code",
     "collapsed": false,
     "input": [
      "%pylab inline\n",
      "import numpy as np"
     ],
     "language": "python",
     "metadata": {},
     "outputs": [
      {
       "output_type": "stream",
       "stream": "stdout",
       "text": [
        "Populating the interactive namespace from numpy and matplotlib\n"
       ]
      }
     ],
     "prompt_number": 3
    },
    {
     "cell_type": "code",
     "collapsed": false,
     "input": [
      "x = np.linspace(3, 9, 500)\n",
      "lamb = lambda x,y,z: x**2 + y**2 + z**2 -2*x*y - 2*y*z - 2*x*z\n",
      "M = 10\n",
      "m1 = 2\n",
      "m2 = 2\n",
      "m3 = 2\n",
      "f1 = lambda x,M,m1,m2,m3: m1 + m3 + (M - x - m1)*(M + m3 - m2)/(2*x) - np.sqrt(lamb(x,M,m1)*(lamb(x,m2,m3))/(4*x**2))\n",
      "f2 = lambda x,M,m1,m2,m3: m1 + m3 + (M - x - m1)*(M + m3 - m2)/(2*x) + np.sqrt(lamb(x,M,m1)*(lamb(x,m2,m3))/(4*x**2))"
     ],
     "language": "python",
     "metadata": {},
     "outputs": [],
     "prompt_number": 86
    },
    {
     "cell_type": "code",
     "collapsed": false,
     "input": [
      "newx = []\n",
      "y1 = []\n",
      "y2 = []\n",
      "\n",
      "for i in x:\n",
      "    if lamb(i,M,m1) * lamb(i,m2,m3) > 0:\n",
      "        newx.append(i)\n",
      "        y1.append(f1(i,M,m1,m2,m3))\n",
      "        y2.append(f2(i,M,m1,m2,m3))"
     ],
     "language": "python",
     "metadata": {},
     "outputs": [],
     "prompt_number": 89
    },
    {
     "cell_type": "code",
     "collapsed": false,
     "input": [
      "plt.plot(newx,y1, label = \"Min\")\n",
      "plt.plot(newx,y2, label = \"Max\")\n",
      "plt.legend()\n",
      "\n",
      "\n",
      "plt.show()"
     ],
     "language": "python",
     "metadata": {},
     "outputs": [
      {
       "metadata": {},
       "output_type": "display_data",
       "png": "[encoded data removed]",
       "text": [
        "<matplotlib.figure.Figure at 0xa692978>"
       ]
      }
     ],
     "prompt_number": 94
    },
    {
     "cell_type": "code",
     "collapsed": false,
     "input": [],
     "language": "python",
     "metadata": {},
     "outputs": []
    }
   ],
   "metadata": {}
  }
 ]
}