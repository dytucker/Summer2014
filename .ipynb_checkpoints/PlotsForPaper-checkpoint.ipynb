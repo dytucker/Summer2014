{
 "metadata": {
  "name": "",
  "signature": "sha256:5c3df3fb90533f680604ec2f078c087f1ef28005ee74af52518b06b642f665a3"
 },
 "nbformat": 3,
 "nbformat_minor": 0,
 "worksheets": []
}